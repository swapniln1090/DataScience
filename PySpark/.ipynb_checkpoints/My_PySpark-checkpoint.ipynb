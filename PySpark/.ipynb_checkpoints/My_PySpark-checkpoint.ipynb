{
 "cells": [
  {
   "cell_type": "code",
   "execution_count": 1,
   "id": "756ee5dd-c215-433e-ace1-a4bc859a7f2e",
   "metadata": {},
   "outputs": [],
   "source": [
    "# To work with PySpark, we need to start the spark session"
   ]
  },
  {
   "cell_type": "code",
   "execution_count": 2,
   "id": "5f79885f-a57e-4abe-9bd7-0b788903882a",
   "metadata": {},
   "outputs": [],
   "source": [
    "from pyspark.sql import SparkSession"
   ]
  },
  {
   "cell_type": "code",
   "execution_count": 3,
   "id": "96b50023-b0d8-44f7-adf8-85b30db52499",
   "metadata": {},
   "outputs": [],
   "source": [
    "import pandas as pd"
   ]
  },
  {
   "cell_type": "code",
   "execution_count": 27,
   "id": "3aeeec53-ea04-4065-9bbc-91dde7da95c5",
   "metadata": {},
   "outputs": [],
   "source": [
    "from pyspark.sql.types import StructType, StructField, StringType, IntegerType"
   ]
  },
  {
   "cell_type": "code",
   "execution_count": 25,
   "id": "3326db17-9272-4177-88dc-d77111e7ceef",
   "metadata": {},
   "outputs": [
    {
     "data": {
      "text/plain": [
       "DataFrame[name: string, age: bigint]"
      ]
     },
     "metadata": {},
     "output_type": "display_data"
    }
   ],
   "source": [
    "df_children = spark.createDataFrame(\n",
    "  data = [(\"Mikhail\", 15), (\"Zaky\", 13), (\"Zoya\", 8)],\n",
    "  schema = ['name', 'age'])\n",
    "display(df_children)\n"
   ]
  },
  {
   "cell_type": "code",
   "execution_count": 28,
   "id": "7d98e591-4cac-4c2e-b245-8087d7fef45b",
   "metadata": {},
   "outputs": [
    {
     "data": {
      "text/plain": [
       "DataFrame[name: string, age: int]"
      ]
     },
     "metadata": {},
     "output_type": "display_data"
    }
   ],
   "source": [
    "# If you want to explicitly add the datatype then \n",
    "\n",
    "df_children_with_schema = spark.createDataFrame(\n",
    "  data = [(\"Mikhail\", 15), (\"Zaky\", 13), (\"Zoya\", 8)],\n",
    "  schema = StructType([\n",
    "    StructField('name', StringType(), True),\n",
    "    StructField('age', IntegerType(), True)\n",
    "  ])\n",
    ")\n",
    "display(df_children_with_schema)"
   ]
  },
  {
   "cell_type": "code",
   "execution_count": null,
   "id": "8d761ff8-53d4-47b7-878f-137f411563e4",
   "metadata": {},
   "outputs": [],
   "source": []
  },
  {
   "cell_type": "code",
   "execution_count": null,
   "id": "11a006d2-a7f0-4dbd-a347-0fd87e76763e",
   "metadata": {},
   "outputs": [],
   "source": []
  },
  {
   "cell_type": "code",
   "execution_count": 4,
   "id": "27554a62-6819-4f4b-9d9d-6374c812a605",
   "metadata": {},
   "outputs": [
    {
     "name": "stderr",
     "output_type": "stream",
     "text": [
      "C:\\Users\\snandanw\\AppData\\Local\\Temp\\ipykernel_23716\\2247022381.py:1: DtypeWarning: Columns (3) have mixed types. Specify dtype option on import or set low_memory=False.\n",
      "  df = pd.read_csv(\"Books.csv\")\n"
     ]
    },
    {
     "data": {
      "text/html": [
       "<div>\n",
       "<style scoped>\n",
       "    .dataframe tbody tr th:only-of-type {\n",
       "        vertical-align: middle;\n",
       "    }\n",
       "\n",
       "    .dataframe tbody tr th {\n",
       "        vertical-align: top;\n",
       "    }\n",
       "\n",
       "    .dataframe thead th {\n",
       "        text-align: right;\n",
       "    }\n",
       "</style>\n",
       "<table border=\"1\" class=\"dataframe\">\n",
       "  <thead>\n",
       "    <tr style=\"text-align: right;\">\n",
       "      <th></th>\n",
       "      <th>ISBN</th>\n",
       "      <th>Book-Title</th>\n",
       "      <th>Book-Author</th>\n",
       "      <th>Year-Of-Publication</th>\n",
       "      <th>Publisher</th>\n",
       "      <th>Image-URL-S</th>\n",
       "      <th>Image-URL-M</th>\n",
       "      <th>Image-URL-L</th>\n",
       "    </tr>\n",
       "  </thead>\n",
       "  <tbody>\n",
       "    <tr>\n",
       "      <th>0</th>\n",
       "      <td>0195153448</td>\n",
       "      <td>Classical Mythology</td>\n",
       "      <td>Mark P. O. Morford</td>\n",
       "      <td>2002</td>\n",
       "      <td>Oxford University Press</td>\n",
       "      <td>http://images.amazon.com/images/P/0195153448.0...</td>\n",
       "      <td>http://images.amazon.com/images/P/0195153448.0...</td>\n",
       "      <td>http://images.amazon.com/images/P/0195153448.0...</td>\n",
       "    </tr>\n",
       "    <tr>\n",
       "      <th>1</th>\n",
       "      <td>0002005018</td>\n",
       "      <td>Clara Callan</td>\n",
       "      <td>Richard Bruce Wright</td>\n",
       "      <td>2001</td>\n",
       "      <td>HarperFlamingo Canada</td>\n",
       "      <td>http://images.amazon.com/images/P/0002005018.0...</td>\n",
       "      <td>http://images.amazon.com/images/P/0002005018.0...</td>\n",
       "      <td>http://images.amazon.com/images/P/0002005018.0...</td>\n",
       "    </tr>\n",
       "    <tr>\n",
       "      <th>2</th>\n",
       "      <td>0060973129</td>\n",
       "      <td>Decision in Normandy</td>\n",
       "      <td>Carlo D'Este</td>\n",
       "      <td>1991</td>\n",
       "      <td>HarperPerennial</td>\n",
       "      <td>http://images.amazon.com/images/P/0060973129.0...</td>\n",
       "      <td>http://images.amazon.com/images/P/0060973129.0...</td>\n",
       "      <td>http://images.amazon.com/images/P/0060973129.0...</td>\n",
       "    </tr>\n",
       "    <tr>\n",
       "      <th>3</th>\n",
       "      <td>0374157065</td>\n",
       "      <td>Flu: The Story of the Great Influenza Pandemic...</td>\n",
       "      <td>Gina Bari Kolata</td>\n",
       "      <td>1999</td>\n",
       "      <td>Farrar Straus Giroux</td>\n",
       "      <td>http://images.amazon.com/images/P/0374157065.0...</td>\n",
       "      <td>http://images.amazon.com/images/P/0374157065.0...</td>\n",
       "      <td>http://images.amazon.com/images/P/0374157065.0...</td>\n",
       "    </tr>\n",
       "    <tr>\n",
       "      <th>4</th>\n",
       "      <td>0393045218</td>\n",
       "      <td>The Mummies of Urumchi</td>\n",
       "      <td>E. J. W. Barber</td>\n",
       "      <td>1999</td>\n",
       "      <td>W. W. Norton &amp;amp; Company</td>\n",
       "      <td>http://images.amazon.com/images/P/0393045218.0...</td>\n",
       "      <td>http://images.amazon.com/images/P/0393045218.0...</td>\n",
       "      <td>http://images.amazon.com/images/P/0393045218.0...</td>\n",
       "    </tr>\n",
       "  </tbody>\n",
       "</table>\n",
       "</div>"
      ],
      "text/plain": [
       "         ISBN                                         Book-Title  \\\n",
       "0  0195153448                                Classical Mythology   \n",
       "1  0002005018                                       Clara Callan   \n",
       "2  0060973129                               Decision in Normandy   \n",
       "3  0374157065  Flu: The Story of the Great Influenza Pandemic...   \n",
       "4  0393045218                             The Mummies of Urumchi   \n",
       "\n",
       "            Book-Author Year-Of-Publication                   Publisher  \\\n",
       "0    Mark P. O. Morford                2002     Oxford University Press   \n",
       "1  Richard Bruce Wright                2001       HarperFlamingo Canada   \n",
       "2          Carlo D'Este                1991             HarperPerennial   \n",
       "3      Gina Bari Kolata                1999        Farrar Straus Giroux   \n",
       "4       E. J. W. Barber                1999  W. W. Norton &amp; Company   \n",
       "\n",
       "                                         Image-URL-S  \\\n",
       "0  http://images.amazon.com/images/P/0195153448.0...   \n",
       "1  http://images.amazon.com/images/P/0002005018.0...   \n",
       "2  http://images.amazon.com/images/P/0060973129.0...   \n",
       "3  http://images.amazon.com/images/P/0374157065.0...   \n",
       "4  http://images.amazon.com/images/P/0393045218.0...   \n",
       "\n",
       "                                         Image-URL-M  \\\n",
       "0  http://images.amazon.com/images/P/0195153448.0...   \n",
       "1  http://images.amazon.com/images/P/0002005018.0...   \n",
       "2  http://images.amazon.com/images/P/0060973129.0...   \n",
       "3  http://images.amazon.com/images/P/0374157065.0...   \n",
       "4  http://images.amazon.com/images/P/0393045218.0...   \n",
       "\n",
       "                                         Image-URL-L  \n",
       "0  http://images.amazon.com/images/P/0195153448.0...  \n",
       "1  http://images.amazon.com/images/P/0002005018.0...  \n",
       "2  http://images.amazon.com/images/P/0060973129.0...  \n",
       "3  http://images.amazon.com/images/P/0374157065.0...  \n",
       "4  http://images.amazon.com/images/P/0393045218.0...  "
      ]
     },
     "execution_count": 4,
     "metadata": {},
     "output_type": "execute_result"
    }
   ],
   "source": [
    "df = pd.read_csv(\"Books.csv\")\n",
    "df.head()"
   ]
  },
  {
   "cell_type": "code",
   "execution_count": null,
   "id": "52ba3022-a08d-497b-a93d-b8a7b8244b63",
   "metadata": {},
   "outputs": [],
   "source": []
  },
  {
   "cell_type": "code",
   "execution_count": 5,
   "id": "9bc419ca-1914-4031-b5b7-b8158aafeae3",
   "metadata": {},
   "outputs": [
    {
     "data": {
      "text/html": [
       "\n",
       "            <div>\n",
       "                <p><b>SparkSession - in-memory</b></p>\n",
       "                \n",
       "        <div>\n",
       "            <p><b>SparkContext</b></p>\n",
       "\n",
       "            <p><a href=\"http://SLP-20991353:4040\">Spark UI</a></p>\n",
       "\n",
       "            <dl>\n",
       "              <dt>Version</dt>\n",
       "                <dd><code>v3.5.1</code></dd>\n",
       "              <dt>Master</dt>\n",
       "                <dd><code>local[*]</code></dd>\n",
       "              <dt>AppName</dt>\n",
       "                <dd><code>Practise</code></dd>\n",
       "            </dl>\n",
       "        </div>\n",
       "        \n",
       "            </div>\n",
       "        "
      ],
      "text/plain": [
       "<pyspark.sql.session.SparkSession at 0x1bf0c6c8a90>"
      ]
     },
     "execution_count": 5,
     "metadata": {},
     "output_type": "execute_result"
    }
   ],
   "source": [
    "spark = SparkSession.builder.appName(\"Practise\").getOrCreate()\n",
    "spark"
   ]
  },
  {
   "cell_type": "code",
   "execution_count": 6,
   "id": "91b2ba15-3014-4143-b58d-acf2d68391f5",
   "metadata": {},
   "outputs": [
    {
     "data": {
      "text/plain": [
       "DataFrame[_c0: string, _c1: string, _c2: string, _c3: string, _c4: string, _c5: string, _c6: string, _c7: string]"
      ]
     },
     "execution_count": 6,
     "metadata": {},
     "output_type": "execute_result"
    }
   ],
   "source": [
    "df_pys = spark.read.csv('Books.csv')\n",
    "df_pys"
   ]
  },
  {
   "cell_type": "markdown",
   "id": "eb834320-1ee1-4e9c-81f8-3866ccc50299",
   "metadata": {},
   "source": [
    "##### If we see above, it doesn't take the column names so we need to import in other way"
   ]
  },
  {
   "cell_type": "code",
   "execution_count": 8,
   "id": "06c36bf3-3cc0-4eb2-ada8-96392db04b5e",
   "metadata": {},
   "outputs": [],
   "source": [
    "df_pys = spark.read.option('header','true').csv(\"Books.csv\")"
   ]
  },
  {
   "cell_type": "code",
   "execution_count": 9,
   "id": "7647a82c-b149-4b23-b34b-35a401051bad",
   "metadata": {},
   "outputs": [
    {
     "data": {
      "text/plain": [
       "DataFrame[ISBN: string, Book-Title: string, Book-Author: string, Year-Of-Publication: string, Publisher: string, Image-URL-S: string, Image-URL-M: string, Image-URL-L: string]"
      ]
     },
     "execution_count": 9,
     "metadata": {},
     "output_type": "execute_result"
    }
   ],
   "source": [
    "df_pys"
   ]
  },
  {
   "cell_type": "code",
   "execution_count": 11,
   "id": "d61b2fa7-db7c-4d95-a026-53065e481342",
   "metadata": {},
   "outputs": [
    {
     "name": "stdout",
     "output_type": "stream",
     "text": [
      "+----------+--------------------+--------------------+-------------------+--------------------+--------------------+--------------------+--------------------+\n",
      "|      ISBN|          Book-Title|         Book-Author|Year-Of-Publication|           Publisher|         Image-URL-S|         Image-URL-M|         Image-URL-L|\n",
      "+----------+--------------------+--------------------+-------------------+--------------------+--------------------+--------------------+--------------------+\n",
      "|0195153448| Classical Mythology|  Mark P. O. Morford|               2002|Oxford University...|http://images.ama...|http://images.ama...|http://images.ama...|\n",
      "|0002005018|        Clara Callan|Richard Bruce Wright|               2001|HarperFlamingo Ca...|http://images.ama...|http://images.ama...|http://images.ama...|\n",
      "|0060973129|Decision in Normandy|        Carlo D'Este|               1991|     HarperPerennial|http://images.ama...|http://images.ama...|http://images.ama...|\n",
      "|0374157065|Flu: The Story of...|    Gina Bari Kolata|               1999|Farrar Straus Giroux|http://images.ama...|http://images.ama...|http://images.ama...|\n",
      "|0393045218|The Mummies of Ur...|     E. J. W. Barber|               1999|W. W. Norton &amp...|http://images.ama...|http://images.ama...|http://images.ama...|\n",
      "+----------+--------------------+--------------------+-------------------+--------------------+--------------------+--------------------+--------------------+\n",
      "only showing top 5 rows\n",
      "\n"
     ]
    }
   ],
   "source": [
    "df_pys.show(5) # by default it displays top 20 rows"
   ]
  },
  {
   "cell_type": "code",
   "execution_count": 12,
   "id": "23ef9560-a72a-4d3d-be57-5d49120459fa",
   "metadata": {},
   "outputs": [
    {
     "data": {
      "text/plain": [
       "pyspark.sql.dataframe.DataFrame"
      ]
     },
     "execution_count": 12,
     "metadata": {},
     "output_type": "execute_result"
    }
   ],
   "source": [
    "type(df_pys)"
   ]
  },
  {
   "cell_type": "code",
   "execution_count": 14,
   "id": "1e5a8a6f-d43a-4200-ada3-ac26f577a5ee",
   "metadata": {},
   "outputs": [
    {
     "data": {
      "text/plain": [
       "[Row(ISBN='0195153448', Book-Title='Classical Mythology', Book-Author='Mark P. O. Morford', Year-Of-Publication='2002', Publisher='Oxford University Press', Image-URL-S='http://images.amazon.com/images/P/0195153448.01.THUMBZZZ.jpg', Image-URL-M='http://images.amazon.com/images/P/0195153448.01.MZZZZZZZ.jpg', Image-URL-L='http://images.amazon.com/images/P/0195153448.01.LZZZZZZZ.jpg'),\n",
       " Row(ISBN='0002005018', Book-Title='Clara Callan', Book-Author='Richard Bruce Wright', Year-Of-Publication='2001', Publisher='HarperFlamingo Canada', Image-URL-S='http://images.amazon.com/images/P/0002005018.01.THUMBZZZ.jpg', Image-URL-M='http://images.amazon.com/images/P/0002005018.01.MZZZZZZZ.jpg', Image-URL-L='http://images.amazon.com/images/P/0002005018.01.LZZZZZZZ.jpg'),\n",
       " Row(ISBN='0060973129', Book-Title='Decision in Normandy', Book-Author=\"Carlo D'Este\", Year-Of-Publication='1991', Publisher='HarperPerennial', Image-URL-S='http://images.amazon.com/images/P/0060973129.01.THUMBZZZ.jpg', Image-URL-M='http://images.amazon.com/images/P/0060973129.01.MZZZZZZZ.jpg', Image-URL-L='http://images.amazon.com/images/P/0060973129.01.LZZZZZZZ.jpg'),\n",
       " Row(ISBN='0374157065', Book-Title='Flu: The Story of the Great Influenza Pandemic of 1918 and the Search for the Virus That Caused It', Book-Author='Gina Bari Kolata', Year-Of-Publication='1999', Publisher='Farrar Straus Giroux', Image-URL-S='http://images.amazon.com/images/P/0374157065.01.THUMBZZZ.jpg', Image-URL-M='http://images.amazon.com/images/P/0374157065.01.MZZZZZZZ.jpg', Image-URL-L='http://images.amazon.com/images/P/0374157065.01.LZZZZZZZ.jpg'),\n",
       " Row(ISBN='0393045218', Book-Title='The Mummies of Urumchi', Book-Author='E. J. W. Barber', Year-Of-Publication='1999', Publisher='W. W. Norton &amp; Company', Image-URL-S='http://images.amazon.com/images/P/0393045218.01.THUMBZZZ.jpg', Image-URL-M='http://images.amazon.com/images/P/0393045218.01.MZZZZZZZ.jpg', Image-URL-L='http://images.amazon.com/images/P/0393045218.01.LZZZZZZZ.jpg')]"
      ]
     },
     "execution_count": 14,
     "metadata": {},
     "output_type": "execute_result"
    }
   ],
   "source": [
    "df_pys.head(5)"
   ]
  },
  {
   "cell_type": "code",
   "execution_count": 15,
   "id": "0e103b26-9a0d-471b-a72a-647164f21663",
   "metadata": {},
   "outputs": [
    {
     "name": "stdout",
     "output_type": "stream",
     "text": [
      "root\n",
      " |-- ISBN: string (nullable = true)\n",
      " |-- Book-Title: string (nullable = true)\n",
      " |-- Book-Author: string (nullable = true)\n",
      " |-- Year-Of-Publication: string (nullable = true)\n",
      " |-- Publisher: string (nullable = true)\n",
      " |-- Image-URL-S: string (nullable = true)\n",
      " |-- Image-URL-M: string (nullable = true)\n",
      " |-- Image-URL-L: string (nullable = true)\n",
      "\n"
     ]
    }
   ],
   "source": [
    "# Check for Schema\n",
    "\n",
    "df_pys.printSchema()"
   ]
  },
  {
   "cell_type": "code",
   "execution_count": 16,
   "id": "126402dc-ac65-48e9-bc45-06c98b6b5559",
   "metadata": {},
   "outputs": [
    {
     "data": {
      "text/plain": [
       "DataFrame[ISBN: string, Book-Title: string, Book-Author: string, Year-Of-Publication: string, Publisher: string, Image-URL-S: string, Image-URL-M: string, Image-URL-L: string]"
      ]
     },
     "execution_count": 16,
     "metadata": {},
     "output_type": "execute_result"
    }
   ],
   "source": [
    "# Easier way to import data is\n",
    "df_pys = spark.read.csv(\"Books.csv\", header=True, inferSchema=True)\n",
    "df_pys"
   ]
  },
  {
   "cell_type": "code",
   "execution_count": 17,
   "id": "63392a49-35a2-4f77-8ebd-c0418a27147c",
   "metadata": {},
   "outputs": [
    {
     "name": "stdout",
     "output_type": "stream",
     "text": [
      "+----------+--------------------+--------------------+-------------------+--------------------+--------------------+--------------------+--------------------+\n",
      "|      ISBN|          Book-Title|         Book-Author|Year-Of-Publication|           Publisher|         Image-URL-S|         Image-URL-M|         Image-URL-L|\n",
      "+----------+--------------------+--------------------+-------------------+--------------------+--------------------+--------------------+--------------------+\n",
      "|0195153448| Classical Mythology|  Mark P. O. Morford|               2002|Oxford University...|http://images.ama...|http://images.ama...|http://images.ama...|\n",
      "|0002005018|        Clara Callan|Richard Bruce Wright|               2001|HarperFlamingo Ca...|http://images.ama...|http://images.ama...|http://images.ama...|\n",
      "|0060973129|Decision in Normandy|        Carlo D'Este|               1991|     HarperPerennial|http://images.ama...|http://images.ama...|http://images.ama...|\n",
      "|0374157065|Flu: The Story of...|    Gina Bari Kolata|               1999|Farrar Straus Giroux|http://images.ama...|http://images.ama...|http://images.ama...|\n",
      "|0393045218|The Mummies of Ur...|     E. J. W. Barber|               1999|W. W. Norton &amp...|http://images.ama...|http://images.ama...|http://images.ama...|\n",
      "|0399135782|The Kitchen God's...|             Amy Tan|               1991|    Putnam Pub Group|http://images.ama...|http://images.ama...|http://images.ama...|\n",
      "+----------+--------------------+--------------------+-------------------+--------------------+--------------------+--------------------+--------------------+\n",
      "only showing top 6 rows\n",
      "\n"
     ]
    }
   ],
   "source": [
    "df_pys.show(6)"
   ]
  },
  {
   "cell_type": "code",
   "execution_count": 18,
   "id": "800b5b09-fe29-4930-8b77-10ac0f777500",
   "metadata": {},
   "outputs": [
    {
     "data": {
      "text/plain": [
       "['ISBN',\n",
       " 'Book-Title',\n",
       " 'Book-Author',\n",
       " 'Year-Of-Publication',\n",
       " 'Publisher',\n",
       " 'Image-URL-S',\n",
       " 'Image-URL-M',\n",
       " 'Image-URL-L']"
      ]
     },
     "execution_count": 18,
     "metadata": {},
     "output_type": "execute_result"
    }
   ],
   "source": [
    "df_pys.columns"
   ]
  },
  {
   "cell_type": "code",
   "execution_count": 19,
   "id": "cf09f30f-54c7-4aa2-956a-59d60c734641",
   "metadata": {},
   "outputs": [
    {
     "data": {
      "text/plain": [
       "[Row(ISBN='0195153448', Book-Title='Classical Mythology', Book-Author='Mark P. O. Morford', Year-Of-Publication='2002', Publisher='Oxford University Press', Image-URL-S='http://images.amazon.com/images/P/0195153448.01.THUMBZZZ.jpg', Image-URL-M='http://images.amazon.com/images/P/0195153448.01.MZZZZZZZ.jpg', Image-URL-L='http://images.amazon.com/images/P/0195153448.01.LZZZZZZZ.jpg'),\n",
       " Row(ISBN='0002005018', Book-Title='Clara Callan', Book-Author='Richard Bruce Wright', Year-Of-Publication='2001', Publisher='HarperFlamingo Canada', Image-URL-S='http://images.amazon.com/images/P/0002005018.01.THUMBZZZ.jpg', Image-URL-M='http://images.amazon.com/images/P/0002005018.01.MZZZZZZZ.jpg', Image-URL-L='http://images.amazon.com/images/P/0002005018.01.LZZZZZZZ.jpg'),\n",
       " Row(ISBN='0060973129', Book-Title='Decision in Normandy', Book-Author=\"Carlo D'Este\", Year-Of-Publication='1991', Publisher='HarperPerennial', Image-URL-S='http://images.amazon.com/images/P/0060973129.01.THUMBZZZ.jpg', Image-URL-M='http://images.amazon.com/images/P/0060973129.01.MZZZZZZZ.jpg', Image-URL-L='http://images.amazon.com/images/P/0060973129.01.LZZZZZZZ.jpg'),\n",
       " Row(ISBN='0374157065', Book-Title='Flu: The Story of the Great Influenza Pandemic of 1918 and the Search for the Virus That Caused It', Book-Author='Gina Bari Kolata', Year-Of-Publication='1999', Publisher='Farrar Straus Giroux', Image-URL-S='http://images.amazon.com/images/P/0374157065.01.THUMBZZZ.jpg', Image-URL-M='http://images.amazon.com/images/P/0374157065.01.MZZZZZZZ.jpg', Image-URL-L='http://images.amazon.com/images/P/0374157065.01.LZZZZZZZ.jpg')]"
      ]
     },
     "execution_count": 19,
     "metadata": {},
     "output_type": "execute_result"
    }
   ],
   "source": [
    "df_pys.head(4)"
   ]
  },
  {
   "cell_type": "code",
   "execution_count": 21,
   "id": "a1cc51de-90f2-4927-b787-7782e5b26c3b",
   "metadata": {},
   "outputs": [
    {
     "name": "stdout",
     "output_type": "stream",
     "text": [
      "+--------------------+\n",
      "|          Book-Title|\n",
      "+--------------------+\n",
      "| Classical Mythology|\n",
      "|        Clara Callan|\n",
      "|Decision in Normandy|\n",
      "|Flu: The Story of...|\n",
      "|The Mummies of Ur...|\n",
      "|The Kitchen God's...|\n",
      "|What If?: The Wor...|\n",
      "|     PLEADING GUILTY|\n",
      "|Under the Black F...|\n",
      "|Where You'll Find...|\n",
      "|Nights Below Stat...|\n",
      "|Hitler's Secret B...|\n",
      "|  The Middle Stories|\n",
      "|            Jane Doe|\n",
      "|A Second Chicken ...|\n",
      "|The Witchfinder (...|\n",
      "|More Cunning Than...|\n",
      "|Goodbye to the Bu...|\n",
      "|       The Testament|\n",
      "|Beloved (Plume Co...|\n",
      "+--------------------+\n",
      "only showing top 20 rows\n",
      "\n"
     ]
    }
   ],
   "source": [
    "df_pys.select('Book-Title').show()"
   ]
  },
  {
   "cell_type": "code",
   "execution_count": 22,
   "id": "5e233e4b-19ba-49b4-a1ba-e90779fc0063",
   "metadata": {},
   "outputs": [
    {
     "data": {
      "text/plain": [
       "pyspark.sql.dataframe.DataFrame"
      ]
     },
     "execution_count": 22,
     "metadata": {},
     "output_type": "execute_result"
    }
   ],
   "source": [
    "type(df_pys.select('Book-Title'))"
   ]
  },
  {
   "cell_type": "code",
   "execution_count": 23,
   "id": "334ba7d1-6344-46b2-938a-5d7dcf254a44",
   "metadata": {},
   "outputs": [
    {
     "name": "stdout",
     "output_type": "stream",
     "text": [
      "+----------+--------------------+\n",
      "|      ISBN|          Book-Title|\n",
      "+----------+--------------------+\n",
      "|0195153448| Classical Mythology|\n",
      "|0002005018|        Clara Callan|\n",
      "|0060973129|Decision in Normandy|\n",
      "|0374157065|Flu: The Story of...|\n",
      "|0393045218|The Mummies of Ur...|\n",
      "+----------+--------------------+\n",
      "only showing top 5 rows\n",
      "\n"
     ]
    }
   ],
   "source": [
    "df_pys.select(['ISBN','Book-Title']).show(5)"
   ]
  },
  {
   "cell_type": "code",
   "execution_count": 24,
   "id": "cd3e58dd-e2bc-4ec8-a16a-d505a816d0ae",
   "metadata": {},
   "outputs": [
    {
     "name": "stdout",
     "output_type": "stream",
     "text": [
      "+-------+--------------------+--------------------+--------------------+--------------------+--------------------+--------------------+--------------------+--------------------+\n",
      "|summary|                ISBN|          Book-Title|         Book-Author| Year-Of-Publication|           Publisher|         Image-URL-S|         Image-URL-M|         Image-URL-L|\n",
      "+-------+--------------------+--------------------+--------------------+--------------------+--------------------+--------------------+--------------------+--------------------+\n",
      "|  count|              271360|              271360|              271359|              271360|              271358|              271360|              271360|              271357|\n",
      "|   mean|1.0412234356977516E9|            Infinity|              2001.0|   1959.754171535147|  3765.6153846153848|             1992.25|              1984.5|             1988.25|\n",
      "| stddev|1.4877142833957238E9|                 NaN|  1.7320508075688772|  258.01944980678724|  7963.0591536808415|   9.863845829363612|  0.7071067811865476|    7.13559154286923|\n",
      "|    min|          0000913154| A Light in the S...| 15th Illinois Vo...|                1961| As Taught at the...| 1865. (Collector...|          Bill Stern|       Our Miss b\"\"\"|\n",
      "|    max|          B0002K6K8O|   Ã?Â?thique en toc|      Ã?Â?ric Holder|and the Final Rid...|      Ã?Â¶bv&amp;hpt|http://images.ama...|http://images.ama...|http://images.ama...|\n",
      "+-------+--------------------+--------------------+--------------------+--------------------+--------------------+--------------------+--------------------+--------------------+\n",
      "\n"
     ]
    }
   ],
   "source": [
    "# Describe\n",
    "\n",
    "df_pys.describe().show()"
   ]
  },
  {
   "cell_type": "markdown",
   "id": "3edab81d-5951-40ae-8ee6-61bd556f36dd",
   "metadata": {},
   "source": [
    "### Column Operations"
   ]
  },
  {
   "cell_type": "code",
   "execution_count": 30,
   "id": "a6371147-18fe-4bbc-8c0b-28d711662431",
   "metadata": {},
   "outputs": [],
   "source": [
    "from pyspark.sql.functions import col"
   ]
  },
  {
   "cell_type": "code",
   "execution_count": 32,
   "id": "5ee2c2d1-a2a5-4fac-b05b-d3bb55345022",
   "metadata": {},
   "outputs": [
    {
     "name": "stdout",
     "output_type": "stream",
     "text": [
      "+----------+--------------------+\n",
      "|      ISBN|          Book-Title|\n",
      "+----------+--------------------+\n",
      "|0195153448| Classical Mythology|\n",
      "|0002005018|        Clara Callan|\n",
      "|0060973129|Decision in Normandy|\n",
      "+----------+--------------------+\n",
      "only showing top 3 rows\n",
      "\n"
     ]
    }
   ],
   "source": [
    "df_pys.select(df_pys['ISBN'],df_pys['Book-Title']).show(3)"
   ]
  },
  {
   "cell_type": "code",
   "execution_count": 38,
   "id": "c49975d3-6efe-4823-9e98-3f0c8398a12b",
   "metadata": {},
   "outputs": [
    {
     "name": "stdout",
     "output_type": "stream",
     "text": [
      "+----------+--------------------+--------------------+-------------------+--------------------+--------------------+--------------------+--------------------+---------+\n",
      "|      ISBN|          Book-Title|         Book-Author|Year-Of-Publication|           Publisher|         Image-URL-S|         Image-URL-M|         Image-URL-L|Old_Books|\n",
      "+----------+--------------------+--------------------+-------------------+--------------------+--------------------+--------------------+--------------------+---------+\n",
      "|0195153448| Classical Mythology|  Mark P. O. Morford|               2002|Oxford University...|http://images.ama...|http://images.ama...|http://images.ama...|    false|\n",
      "|0002005018|        Clara Callan|Richard Bruce Wright|               2001|HarperFlamingo Ca...|http://images.ama...|http://images.ama...|http://images.ama...|    false|\n",
      "|0060973129|Decision in Normandy|        Carlo D'Este|               1991|     HarperPerennial|http://images.ama...|http://images.ama...|http://images.ama...|     true|\n",
      "|0374157065|Flu: The Story of...|    Gina Bari Kolata|               1999|Farrar Straus Giroux|http://images.ama...|http://images.ama...|http://images.ama...|    false|\n",
      "|0393045218|The Mummies of Ur...|     E. J. W. Barber|               1999|W. W. Norton &amp...|http://images.ama...|http://images.ama...|http://images.ama...|    false|\n",
      "+----------+--------------------+--------------------+-------------------+--------------------+--------------------+--------------------+--------------------+---------+\n",
      "only showing top 5 rows\n",
      "\n"
     ]
    }
   ],
   "source": [
    "# Adding new columns\n",
    "\n",
    "df_pys = df_pys.withColumn('Old_Books',df_pys['Year-Of-Publication']<1995)\n",
    "df_pys.show(5)"
   ]
  },
  {
   "cell_type": "markdown",
   "id": "77603d13-3d97-454e-8383-f01d2080f578",
   "metadata": {},
   "source": [
    "### Renaming Column"
   ]
  },
  {
   "cell_type": "code",
   "execution_count": 35,
   "id": "adaff630-5124-42ff-940e-4050e6cda390",
   "metadata": {},
   "outputs": [
    {
     "name": "stdout",
     "output_type": "stream",
     "text": [
      "+----------+--------------------+--------------------+-------------------+--------------------+--------------------+--------------------+--------------------+-----------------+\n",
      "|      ISBN|          Book-Title|         Book-Author|Year-Of-Publication|           Publisher|         Image-URL-S|         Image-URL-M|         Image-URL-L|Old_Books_Renamed|\n",
      "+----------+--------------------+--------------------+-------------------+--------------------+--------------------+--------------------+--------------------+-----------------+\n",
      "|0195153448| Classical Mythology|  Mark P. O. Morford|               2002|Oxford University...|http://images.ama...|http://images.ama...|http://images.ama...|            false|\n",
      "|0002005018|        Clara Callan|Richard Bruce Wright|               2001|HarperFlamingo Ca...|http://images.ama...|http://images.ama...|http://images.ama...|            false|\n",
      "|0060973129|Decision in Normandy|        Carlo D'Este|               1991|     HarperPerennial|http://images.ama...|http://images.ama...|http://images.ama...|             true|\n",
      "+----------+--------------------+--------------------+-------------------+--------------------+--------------------+--------------------+--------------------+-----------------+\n",
      "only showing top 3 rows\n",
      "\n"
     ]
    }
   ],
   "source": [
    "# Renaming Columns\n",
    "\n",
    "df_pys_renamed = df_pys.withColumnRenamed('Old_Books','Old_Books_Renamed')\n",
    "df_pys_renamed.show(3)"
   ]
  },
  {
   "cell_type": "markdown",
   "id": "4ab5a323-b38e-485d-9e9d-241798cc7c75",
   "metadata": {},
   "source": [
    "### Droping the column/columns"
   ]
  },
  {
   "cell_type": "code",
   "execution_count": 39,
   "id": "c5701597-1f26-46b0-b5e8-84df72da3655",
   "metadata": {},
   "outputs": [
    {
     "name": "stdout",
     "output_type": "stream",
     "text": [
      "+----------+--------------------+--------------------+-------------------+--------------------+--------------------+--------------------+--------------------+---------+\n",
      "|      ISBN|          Book-Title|         Book-Author|Year-Of-Publication|           Publisher|         Image-URL-S|         Image-URL-M|         Image-URL-L|Old_Books|\n",
      "+----------+--------------------+--------------------+-------------------+--------------------+--------------------+--------------------+--------------------+---------+\n",
      "|0195153448| Classical Mythology|  Mark P. O. Morford|               2002|Oxford University...|http://images.ama...|http://images.ama...|http://images.ama...|    false|\n",
      "|0002005018|        Clara Callan|Richard Bruce Wright|               2001|HarperFlamingo Ca...|http://images.ama...|http://images.ama...|http://images.ama...|    false|\n",
      "|0060973129|Decision in Normandy|        Carlo D'Este|               1991|     HarperPerennial|http://images.ama...|http://images.ama...|http://images.ama...|     true|\n",
      "+----------+--------------------+--------------------+-------------------+--------------------+--------------------+--------------------+--------------------+---------+\n",
      "only showing top 3 rows\n",
      "\n",
      "+----------+--------------------+--------------------+-------------------+--------------------+--------------------+--------------------+\n",
      "|      ISBN|          Book-Title|         Book-Author|Year-Of-Publication|           Publisher|         Image-URL-S|         Image-URL-M|\n",
      "+----------+--------------------+--------------------+-------------------+--------------------+--------------------+--------------------+\n",
      "|0195153448| Classical Mythology|  Mark P. O. Morford|               2002|Oxford University...|http://images.ama...|http://images.ama...|\n",
      "|0002005018|        Clara Callan|Richard Bruce Wright|               2001|HarperFlamingo Ca...|http://images.ama...|http://images.ama...|\n",
      "|0060973129|Decision in Normandy|        Carlo D'Este|               1991|     HarperPerennial|http://images.ama...|http://images.ama...|\n",
      "+----------+--------------------+--------------------+-------------------+--------------------+--------------------+--------------------+\n",
      "only showing top 3 rows\n",
      "\n"
     ]
    }
   ],
   "source": [
    "# droping the column/columns\n",
    "#df_pys = df_pys.drop('Old_Books')\n",
    "df_pys.show(3)\n",
    "\n",
    "# If you want to drop multiple columns then \n",
    "df_pys = df_pys.drop('Old_Books','Image-URL-L')\n",
    "df_pys.show(3)"
   ]
  },
  {
   "cell_type": "markdown",
   "id": "9717b5d8-1190-4176-b21a-fbe0af8b4d0f",
   "metadata": {},
   "source": [
    "## Filter Operations "
   ]
  },
  {
   "cell_type": "code",
   "execution_count": 99,
   "id": "f8be5501-ca51-46de-83b7-75b3c0129c8c",
   "metadata": {},
   "outputs": [
    {
     "name": "stdout",
     "output_type": "stream",
     "text": [
      "+----------+------------+--------------------+-------------------+--------------------+--------------------+--------------------+\n",
      "|      ISBN|  Book-Title|         Book-Author|Year-Of-Publication|           Publisher|         Image-URL-S|         Image-URL-M|\n",
      "+----------+------------+--------------------+-------------------+--------------------+--------------------+--------------------+\n",
      "|0002005018|Clara Callan|Richard Bruce Wright|               2001|HarperFlamingo Ca...|http://images.ama...|http://images.ama...|\n",
      "+----------+------------+--------------------+-------------------+--------------------+--------------------+--------------------+\n",
      "\n"
     ]
    }
   ],
   "source": [
    "df_pys.filter('ISBN == 0002005018').show(4)"
   ]
  },
  {
   "cell_type": "code",
   "execution_count": 46,
   "id": "16cd518e-a178-4797-ba47-ed85b3e50002",
   "metadata": {},
   "outputs": [
    {
     "name": "stdout",
     "output_type": "stream",
     "text": [
      "+----------+--------------------+------------------+-------------------+--------------------+--------------------+--------------------+\n",
      "|      ISBN|          Book-Title|       Book-Author|Year-Of-Publication|           Publisher|         Image-URL-S|         Image-URL-M|\n",
      "+----------+--------------------+------------------+-------------------+--------------------+--------------------+--------------------+\n",
      "|0195153448| Classical Mythology|Mark P. O. Morford|               2002|Oxford University...|http://images.ama...|http://images.ama...|\n",
      "|074322678X|Where You'll Find...|       Ann Beattie|               2002|            Scribner|http://images.ama...|http://images.ama...|\n",
      "|3404921038|Wie Barney es sieht.|  Mordecai Richler|               2002|            LÃ?Â¼bbe|http://images.ama...|http://images.ama...|\n",
      "|0449005615|Seabiscuit: An Am...| LAURA HILLENBRAND|               2002|    Ballantine Books|http://images.ama...|http://images.ama...|\n",
      "+----------+--------------------+------------------+-------------------+--------------------+--------------------+--------------------+\n",
      "only showing top 4 rows\n",
      "\n"
     ]
    }
   ],
   "source": [
    "df_pys.filter(df_pys['Year-Of-Publication'] == 2002).show(4)"
   ]
  },
  {
   "cell_type": "code",
   "execution_count": 101,
   "id": "8cef19ae-e80f-445f-aae5-32fe6e7ae0e0",
   "metadata": {},
   "outputs": [
    {
     "name": "stdout",
     "output_type": "stream",
     "text": [
      "+----------+--------------------+--------------------+-------------------+\n",
      "|      ISBN|          Book-Title|         Book-Author|Year-Of-Publication|\n",
      "+----------+--------------------+--------------------+-------------------+\n",
      "|0002005018|        Clara Callan|Richard Bruce Wright|               2001|\n",
      "|0060973129|Decision in Normandy|        Carlo D'Este|               1991|\n",
      "|0374157065|Flu: The Story of...|    Gina Bari Kolata|               1999|\n",
      "|0393045218|The Mummies of Ur...|     E. J. W. Barber|               1999|\n",
      "+----------+--------------------+--------------------+-------------------+\n",
      "only showing top 4 rows\n",
      "\n"
     ]
    }
   ],
   "source": [
    "df_pys.filter(~(df_pys['Year-Of-Publication'] == 2002)).select(['ISBN','Book-Title','Book-Author','Year-Of-Publication']).show(4)"
   ]
  },
  {
   "cell_type": "code",
   "execution_count": 47,
   "id": "aca97c5d-bc78-4098-ae2c-010321e5a653",
   "metadata": {},
   "outputs": [
    {
     "name": "stdout",
     "output_type": "stream",
     "text": [
      "+----------+--------------------+------------------+-------------------+--------------------+--------------------+--------------------+\n",
      "|      ISBN|          Book-Title|       Book-Author|Year-Of-Publication|           Publisher|         Image-URL-S|         Image-URL-M|\n",
      "+----------+--------------------+------------------+-------------------+--------------------+--------------------+--------------------+\n",
      "|0195153448| Classical Mythology|Mark P. O. Morford|               2002|Oxford University...|http://images.ama...|http://images.ama...|\n",
      "|074322678X|Where You'll Find...|       Ann Beattie|               2002|            Scribner|http://images.ama...|http://images.ama...|\n",
      "|3404921038|Wie Barney es sieht.|  Mordecai Richler|               2002|            LÃ?Â¼bbe|http://images.ama...|http://images.ama...|\n",
      "|0449005615|Seabiscuit: An Am...| LAURA HILLENBRAND|               2002|    Ballantine Books|http://images.ama...|http://images.ama...|\n",
      "+----------+--------------------+------------------+-------------------+--------------------+--------------------+--------------------+\n",
      "only showing top 4 rows\n",
      "\n"
     ]
    }
   ],
   "source": [
    "df_pys.where(df_pys['Year-Of-Publication'] == 2002).show(4) # this is an alias for function filter"
   ]
  },
  {
   "cell_type": "code",
   "execution_count": 49,
   "id": "6381735c-130c-4527-ab79-ed96a0e1474b",
   "metadata": {},
   "outputs": [
    {
     "name": "stdout",
     "output_type": "stream",
     "text": [
      "+----------+--------------------+-----------+-------------------+--------------------+--------------------+--------------------+\n",
      "|      ISBN|          Book-Title|Book-Author|Year-Of-Publication|           Publisher|         Image-URL-S|         Image-URL-M|\n",
      "+----------+--------------------+-----------+-------------------+--------------------+--------------------+--------------------+\n",
      "|074322678X|Where You'll Find...|Ann Beattie|               2002|            Scribner|http://images.ama...|http://images.ama...|\n",
      "|0743212649|The Doctor's Hous...|Ann Beattie|               2002|            Scribner|http://images.ama...|http://images.ama...|\n",
      "|1585471992|The Doctor's Hous...|Ann Beattie|               2002|Center Point Publ...|http://images.ama...|http://images.ama...|\n",
      "+----------+--------------------+-----------+-------------------+--------------------+--------------------+--------------------+\n",
      "\n"
     ]
    }
   ],
   "source": [
    "df_pys.filter((df_pys['Year-Of-Publication'] == 2002) & (df_pys['Book-Author']=='Ann Beattie')).show(4)"
   ]
  },
  {
   "cell_type": "code",
   "execution_count": 50,
   "id": "acf9ed94-3b0a-47c7-a70a-f459f51448f1",
   "metadata": {},
   "outputs": [
    {
     "name": "stdout",
     "output_type": "stream",
     "text": [
      "+----------+--------------------+------------------+-------------------+--------------------+--------------------+--------------------+\n",
      "|      ISBN|          Book-Title|       Book-Author|Year-Of-Publication|           Publisher|         Image-URL-S|         Image-URL-M|\n",
      "+----------+--------------------+------------------+-------------------+--------------------+--------------------+--------------------+\n",
      "|0195153448| Classical Mythology|Mark P. O. Morford|               2002|Oxford University...|http://images.ama...|http://images.ama...|\n",
      "|074322678X|Where You'll Find...|       Ann Beattie|               2002|            Scribner|http://images.ama...|http://images.ama...|\n",
      "|3404921038|Wie Barney es sieht.|  Mordecai Richler|               2002|            LÃ?Â¼bbe|http://images.ama...|http://images.ama...|\n",
      "|0449005615|Seabiscuit: An Am...| LAURA HILLENBRAND|               2002|    Ballantine Books|http://images.ama...|http://images.ama...|\n",
      "|0425182908|        Isle of Dogs| Patricia Cornwell|               2002|Berkley Publishin...|http://images.ama...|http://images.ama...|\n",
      "|042518630X|     Purity in Death|         J.D. Robb|               2002|Berkley Publishin...|http://images.ama...|http://images.ama...|\n",
      "+----------+--------------------+------------------+-------------------+--------------------+--------------------+--------------------+\n",
      "only showing top 6 rows\n",
      "\n"
     ]
    }
   ],
   "source": [
    "# OR\n",
    "df_pys.filter((df_pys['Year-Of-Publication'] == 2002) | (df_pys['Book-Author']=='Ann Beattie')).show(6)"
   ]
  },
  {
   "cell_type": "markdown",
   "id": "c500d4e0-291f-4bdd-a367-89f667c218d9",
   "metadata": {},
   "source": [
    "## Remove duplicate rows"
   ]
  },
  {
   "cell_type": "code",
   "execution_count": 52,
   "id": "11e561b6-502f-4432-b860-663fcbc50765",
   "metadata": {},
   "outputs": [
    {
     "data": {
      "text/plain": [
       "271360"
      ]
     },
     "execution_count": 52,
     "metadata": {},
     "output_type": "execute_result"
    }
   ],
   "source": [
    "df_pys.distinct().count()"
   ]
  },
  {
   "cell_type": "code",
   "execution_count": 53,
   "id": "dfa63cff-ff70-4d44-85bd-2e3f93628655",
   "metadata": {},
   "outputs": [
    {
     "data": {
      "text/plain": [
       "271360"
      ]
     },
     "execution_count": 53,
     "metadata": {},
     "output_type": "execute_result"
    }
   ],
   "source": [
    "df_pys.count()"
   ]
  },
  {
   "cell_type": "code",
   "execution_count": 55,
   "id": "9abdc04b-fbef-4d2b-b022-962476a0302d",
   "metadata": {},
   "outputs": [
    {
     "data": {
      "text/plain": [
       "(271360, 169)"
      ]
     },
     "execution_count": 55,
     "metadata": {},
     "output_type": "execute_result"
    }
   ],
   "source": [
    "df_pys.select('Year-Of-Publication').count(), df_pys.select('Year-Of-Publication').distinct().count()"
   ]
  },
  {
   "cell_type": "markdown",
   "id": "eeb36d35-7f77-4fb1-8191-be0f2d449c75",
   "metadata": {},
   "source": [
    "### Handle null values"
   ]
  },
  {
   "cell_type": "code",
   "execution_count": 62,
   "id": "b754d3fd-1bc7-474b-8f18-9c0daa1a9ec3",
   "metadata": {},
   "outputs": [
    {
     "data": {
      "text/plain": [
       "271357"
      ]
     },
     "execution_count": 62,
     "metadata": {},
     "output_type": "execute_result"
    }
   ],
   "source": [
    "df_pys.na.drop(how = \"any\").distinct().count() # If \"any\" option selected then it drops row if it finds any null value in any column of that row"
   ]
  },
  {
   "cell_type": "code",
   "execution_count": 63,
   "id": "93e33c54-e6fd-4cf1-aeba-6593a2341252",
   "metadata": {},
   "outputs": [
    {
     "data": {
      "text/plain": [
       "271360"
      ]
     },
     "execution_count": 63,
     "metadata": {},
     "output_type": "execute_result"
    }
   ],
   "source": [
    "df_pys.na.drop(how = \"all\").distinct().count() # If \"all\" option selected then it drops row only if it finds all null value in all column of that row"
   ]
  },
  {
   "cell_type": "code",
   "execution_count": 72,
   "id": "6b060407-7c26-48f3-a9d6-f0989231ff21",
   "metadata": {},
   "outputs": [
    {
     "data": {
      "text/plain": [
       "271360"
      ]
     },
     "execution_count": 72,
     "metadata": {},
     "output_type": "execute_result"
    }
   ],
   "source": [
    "# we can also use thresold\n",
    "df_pys.na.drop(how = \"any\", thresh= 2).distinct().count() # thresold number says atlst 2 non null column should should be present so not to delete. Anything less than that would get deleted"
   ]
  },
  {
   "cell_type": "code",
   "execution_count": 73,
   "id": "e3c8aa52-39d9-4939-bb96-e8c7e63352d0",
   "metadata": {},
   "outputs": [
    {
     "data": {
      "text/plain": [
       "271359"
      ]
     },
     "execution_count": 73,
     "metadata": {},
     "output_type": "execute_result"
    }
   ],
   "source": [
    "df_pys.na.drop(\"any\", subset=['Book-Author']).count() # this removes row for the null values in the particular given column/ or set of columns"
   ]
  },
  {
   "cell_type": "code",
   "execution_count": 74,
   "id": "f2699d13-50ed-44f2-b70b-1f327a115d6f",
   "metadata": {},
   "outputs": [
    {
     "data": {
      "text/plain": [
       "DataFrame[ISBN: string, Book-Title: string, Book-Author: string, Year-Of-Publication: string, Publisher: string, Image-URL-S: string, Image-URL-M: string]"
      ]
     },
     "execution_count": 74,
     "metadata": {},
     "output_type": "execute_result"
    }
   ],
   "source": [
    "df_pys.na.fill(\"Missing_Value\") # This impute string \"MIssing_Value\" whereever it finds null in dataframe\n",
    "# to fill/impute missing values in particular column we can sepecify name\n",
    "df_pys.na.fill(\"Missing_Value\",'Book-Author')"
   ]
  },
  {
   "cell_type": "code",
   "execution_count": 83,
   "id": "4db11209-338c-4dc0-9ce1-2ab480ca3eab",
   "metadata": {},
   "outputs": [
    {
     "name": "stdout",
     "output_type": "stream",
     "text": [
      "+-------+----+----+------+\n",
      "|   Name| Age|Work|Salary|\n",
      "+-------+----+----+------+\n",
      "|Swapnil|  34|  IT|200000|\n",
      "|  Vinit|  30|  IT|150000|\n",
      "|Vikrant|  35|  IT|300000|\n",
      "|  Kundu|  32|  IT|250000|\n",
      "|   John|  25|Mech| 10000|\n",
      "|    Das|NULL|NULL| 25252|\n",
      "|  Jyoti|  50|NULL|  NULL|\n",
      "|   ABAB|NULL|NULL|  NULL|\n",
      "+-------+----+----+------+\n",
      "\n"
     ]
    }
   ],
   "source": [
    "df1 = spark.read.csv(\"Exp_data.csv\",header=True, inferSchema=True)\n",
    "df1.show()"
   ]
  },
  {
   "cell_type": "code",
   "execution_count": 92,
   "id": "6fab3eab-430a-4e62-befd-2de2a783f799",
   "metadata": {},
   "outputs": [
    {
     "name": "stdout",
     "output_type": "stream",
     "text": [
      "+-------+----+----+------+\n",
      "|   Name| Age|Work|Salary|\n",
      "+-------+----+----+------+\n",
      "|Swapnil|  34|  IT|200000|\n",
      "|  Vinit|  30|  IT|150000|\n",
      "|Vikrant|  35|  IT|300000|\n",
      "|  Kundu|  32|  IT|250000|\n",
      "|   John|  25|Mech| 10000|\n",
      "|    Das|NULL|NULL| 25252|\n",
      "|  Jyoti|  50|NULL|  NULL|\n",
      "|   ABAB|NULL|NULL|  NULL|\n",
      "+-------+----+----+------+\n",
      "\n"
     ]
    }
   ],
   "source": [
    "df1.na.fill(\"missing value\",['Age','Salary']).show() # this won't allow imputing non-integer values to a column which is an integer"
   ]
  },
  {
   "cell_type": "code",
   "execution_count": 87,
   "id": "34904a70-2196-4d19-97a1-6219c9a4f88c",
   "metadata": {},
   "outputs": [
    {
     "name": "stdout",
     "output_type": "stream",
     "text": [
      "root\n",
      " |-- Name: string (nullable = true)\n",
      " |-- Age: integer (nullable = true)\n",
      " |-- Work: string (nullable = true)\n",
      " |-- Salary: integer (nullable = true)\n",
      "\n"
     ]
    }
   ],
   "source": [
    "df1.printSchema()"
   ]
  },
  {
   "cell_type": "code",
   "execution_count": 90,
   "id": "9a7d7f12-2a5d-4cc8-a01c-940e85615b29",
   "metadata": {},
   "outputs": [
    {
     "name": "stdout",
     "output_type": "stream",
     "text": [
      "+-------+---+----+------+\n",
      "|   Name|Age|Work|Salary|\n",
      "+-------+---+----+------+\n",
      "|Swapnil| 34|  IT|200000|\n",
      "|  Vinit| 30|  IT|150000|\n",
      "|Vikrant| 35|  IT|300000|\n",
      "|  Kundu| 32|  IT|250000|\n",
      "|   John| 25|Mech| 10000|\n",
      "|    Das|  0|NULL| 25252|\n",
      "|  Jyoti| 50|NULL|     0|\n",
      "|   ABAB|  0|NULL|     0|\n",
      "+-------+---+----+------+\n",
      "\n"
     ]
    }
   ],
   "source": [
    "df1.na.fill(00,['Age','Salary']).show()"
   ]
  },
  {
   "cell_type": "code",
   "execution_count": 91,
   "id": "75072617-7401-4143-9836-371535576735",
   "metadata": {},
   "outputs": [],
   "source": [
    "# Imputing values diffrently\n",
    "from pyspark.ml.feature import Imputer"
   ]
  },
  {
   "cell_type": "code",
   "execution_count": 96,
   "id": "e7076b88-0448-48fc-a2fb-7d45c770fa98",
   "metadata": {},
   "outputs": [],
   "source": [
    "imputer = Imputer(inputCols=['Age','Salary'], outputCols=['Age_new','Salary_new'],strategy = \"median\" )"
   ]
  },
  {
   "cell_type": "code",
   "execution_count": 97,
   "id": "be74223e-cbd4-4541-a174-8e8c660f6614",
   "metadata": {},
   "outputs": [
    {
     "name": "stdout",
     "output_type": "stream",
     "text": [
      "+-------+----+----+------+-------+----------+\n",
      "|   Name| Age|Work|Salary|Age_new|Salary_new|\n",
      "+-------+----+----+------+-------+----------+\n",
      "|Swapnil|  34|  IT|200000|     34|    200000|\n",
      "|  Vinit|  30|  IT|150000|     30|    150000|\n",
      "|Vikrant|  35|  IT|300000|     35|    300000|\n",
      "|  Kundu|  32|  IT|250000|     32|    250000|\n",
      "|   John|  25|Mech| 10000|     25|     10000|\n",
      "|    Das|NULL|NULL| 25252|     32|     25252|\n",
      "|  Jyoti|  50|NULL|  NULL|     50|    150000|\n",
      "|   ABAB|NULL|NULL|  NULL|     32|    150000|\n",
      "+-------+----+----+------+-------+----------+\n",
      "\n"
     ]
    }
   ],
   "source": [
    "imputer.fit(df1).transform(df1).show()"
   ]
  },
  {
   "cell_type": "code",
   "execution_count": 102,
   "id": "83395648-86da-47c6-ae1c-f87a6b0a53b3",
   "metadata": {},
   "outputs": [
    {
     "name": "stdout",
     "output_type": "stream",
     "text": [
      "+-------+---+----+------+\n",
      "|   Name|Age|Work|Salary|\n",
      "+-------+---+----+------+\n",
      "|Swapnil| 34|  IT|200000|\n",
      "|  Vinit| 30|  IT|150000|\n",
      "|Vikrant| 35|  IT|300000|\n",
      "|  Kundu| 32|  IT|250000|\n",
      "|   John| 25|Mech| 10000|\n",
      "|    Das| 32|NULL| 25252|\n",
      "|  Jyoti| 50|NULL|150000|\n",
      "|   ABAB| 32|NULL|150000|\n",
      "+-------+---+----+------+\n",
      "\n"
     ]
    }
   ],
   "source": [
    "# lets impute in same column\n",
    "imputer1 = Imputer(inputCols=['Age','Salary'], outputCols=['Age','Salary'],strategy = \"median\" )\n",
    "imputer1.fit(df1).transform(df1).show()"
   ]
  },
  {
   "cell_type": "code",
   "execution_count": 103,
   "id": "a904d6e7-9dac-47a9-8f96-f613be0d3cd0",
   "metadata": {},
   "outputs": [
    {
     "name": "stdout",
     "output_type": "stream",
     "text": [
      "+-------+----+----+------+\n",
      "|   Name| Age|Work|Salary|\n",
      "+-------+----+----+------+\n",
      "|Swapnil|  34|  IT|200000|\n",
      "|  Vinit|  30|  IT|150000|\n",
      "|Vikrant|  35|  IT|300000|\n",
      "|  Kundu|  32|  IT|250000|\n",
      "|   John|  25|Mech| 10000|\n",
      "|    Das|NULL|NULL| 25252|\n",
      "|  Jyoti|  50|NULL|  NULL|\n",
      "|   ABAB|NULL|NULL|  NULL|\n",
      "+-------+----+----+------+\n",
      "\n"
     ]
    }
   ],
   "source": [
    "df1.show()"
   ]
  },
  {
   "cell_type": "markdown",
   "id": "a1b54d37-662c-433d-8267-6482fe703a6d",
   "metadata": {},
   "source": [
    "# Grouping & Agreegation"
   ]
  },
  {
   "cell_type": "code",
   "execution_count": 104,
   "id": "e5f7a084-70b7-4880-9412-d327a77bed7a",
   "metadata": {},
   "outputs": [
    {
     "name": "stdout",
     "output_type": "stream",
     "text": [
      "+-------+---+----+------+\n",
      "|   Name|Age|Work|Salary|\n",
      "+-------+---+----+------+\n",
      "|Swapnil| 34|  IT|200000|\n",
      "|  Vinit| 30|  IT|150000|\n",
      "|Vikrant| 35|  IT|300000|\n",
      "|Swapnil| 34|  DS|250000|\n",
      "|Swapnil| 34|  ML|300000|\n",
      "|  Vinit| 30|  PS|200000|\n",
      "|  Kundu| 32|  IT|250000|\n",
      "|   John| 25|Mech| 10000|\n",
      "|  Kundu| 32|  DD|252525|\n",
      "|    Das| 41|Call| 25252|\n",
      "|  Jyoti| 50|Bank|505050|\n",
      "+-------+---+----+------+\n",
      "\n"
     ]
    }
   ],
   "source": [
    "df2 = spark.read.csv(\"Exp_data_agg.csv\", header=True, inferSchema=True)\n",
    "df2.show()"
   ]
  },
  {
   "cell_type": "code",
   "execution_count": 111,
   "id": "cf010950-5273-4fc0-8a09-c95564ac0183",
   "metadata": {},
   "outputs": [
    {
     "name": "stdout",
     "output_type": "stream",
     "text": [
      "+----+--------+-----------+\n",
      "|Work|avg(Age)|avg(Salary)|\n",
      "+----+--------+-----------+\n",
      "|Bank|    50.0|   505050.0|\n",
      "|  PS|    30.0|   200000.0|\n",
      "|Call|    41.0|    25252.0|\n",
      "|  DD|    32.0|   252525.0|\n",
      "|  IT|   32.75|   225000.0|\n",
      "|Mech|    25.0|    10000.0|\n",
      "|  DS|    34.0|   250000.0|\n",
      "|  ML|    34.0|   300000.0|\n",
      "+----+--------+-----------+\n",
      "\n"
     ]
    }
   ],
   "source": [
    "df2.groupby(\"Work\").mean().show()"
   ]
  },
  {
   "cell_type": "code",
   "execution_count": 112,
   "id": "7f280af6-948f-4b55-9bfd-b5861aae3e06",
   "metadata": {},
   "outputs": [
    {
     "name": "stdout",
     "output_type": "stream",
     "text": [
      "+----+-----+\n",
      "|Work|count|\n",
      "+----+-----+\n",
      "|Bank|    1|\n",
      "|  PS|    1|\n",
      "|Call|    1|\n",
      "|  DD|    1|\n",
      "|  IT|    4|\n",
      "|Mech|    1|\n",
      "|  DS|    1|\n",
      "|  ML|    1|\n",
      "+----+-----+\n",
      "\n"
     ]
    }
   ],
   "source": [
    "df2.groupby(\"Work\").count().show()"
   ]
  },
  {
   "cell_type": "code",
   "execution_count": 115,
   "id": "2ced668e-8d40-43fc-a479-dcca3b2865f7",
   "metadata": {},
   "outputs": [
    {
     "name": "stdout",
     "output_type": "stream",
     "text": [
      "+-----------+--------+\n",
      "|min(Salary)|max(Age)|\n",
      "+-----------+--------+\n",
      "|      10000|      50|\n",
      "+-----------+--------+\n",
      "\n"
     ]
    }
   ],
   "source": [
    "df2.agg({'Salary': 'sum','Salary': 'median','Salary': 'max','Salary': 'min','Age':'mean', 'Age':'max'}).show() # We cannot show different aggregartion on same column at once"
   ]
  },
  {
   "cell_type": "code",
   "execution_count": null,
   "id": "65cf2e14-12c2-461b-bfdf-cc92c026ff1a",
   "metadata": {},
   "outputs": [],
   "source": []
  }
 ],
 "metadata": {
  "kernelspec": {
   "display_name": "Python 3 (ipykernel)",
   "language": "python",
   "name": "python3"
  },
  "language_info": {
   "codemirror_mode": {
    "name": "ipython",
    "version": 3
   },
   "file_extension": ".py",
   "mimetype": "text/x-python",
   "name": "python",
   "nbconvert_exporter": "python",
   "pygments_lexer": "ipython3",
   "version": "3.9.19"
  }
 },
 "nbformat": 4,
 "nbformat_minor": 5
}
