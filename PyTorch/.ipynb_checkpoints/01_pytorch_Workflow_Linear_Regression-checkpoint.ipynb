{
 "cells": [
  {
   "cell_type": "code",
   "execution_count": null,
   "metadata": {
    "colab": {
     "base_uri": "https://localhost:8080/",
     "height": 36
    },
    "executionInfo": {
     "elapsed": 132,
     "status": "ok",
     "timestamp": 1707375467409,
     "user": {
      "displayName": "Swapnil Nandanwar",
      "userId": "10260422342272113088"
     },
     "user_tz": 360
    },
    "id": "Mf-dB_hYb2OH",
    "outputId": "1269dfb6-724f-47a0-95df-38b00f7b00e1"
   },
   "outputs": [
    {
     "data": {
      "application/vnd.google.colaboratory.intrinsic+json": {
       "type": "string"
      },
      "text/plain": [
       "'2.1.0+cu121'"
      ]
     },
     "execution_count": 13,
     "metadata": {},
     "output_type": "execute_result"
    }
   ],
   "source": [
    "import torch\n",
    "from torch import nn\n",
    "import matplotlib.pyplot as plt\n",
    "\n",
    "torch.__version__"
   ]
  },
  {
   "cell_type": "code",
   "execution_count": null,
   "metadata": {
    "colab": {
     "base_uri": "https://localhost:8080/"
    },
    "executionInfo": {
     "elapsed": 6,
     "status": "ok",
     "timestamp": 1707375467540,
     "user": {
      "displayName": "Swapnil Nandanwar",
      "userId": "10260422342272113088"
     },
     "user_tz": 360
    },
    "id": "fqYvbRJccH05",
    "outputId": "586495fd-c2fe-4917-e909-0e2e356300e7"
   },
   "outputs": [
    {
     "data": {
      "text/plain": [
       "(tensor([[0.0000],\n",
       "         [0.0200],\n",
       "         [0.0400],\n",
       "         [0.0600],\n",
       "         [0.0800]]),\n",
       " tensor([[0.3000],\n",
       "         [0.3140],\n",
       "         [0.3280],\n",
       "         [0.3420],\n",
       "         [0.3560]]))"
      ]
     },
     "execution_count": 14,
     "metadata": {},
     "output_type": "execute_result"
    }
   ],
   "source": [
    "#Creating data using linear regression formula y = mx + c i.e weight * x + Bias\n",
    "\n",
    "weight = 0.7\n",
    "bias = 0.3\n",
    "\n",
    "start = 0\n",
    "end = 1\n",
    "step = 0.02\n",
    "\n",
    "X = torch.arange(start=start, end = end , step = step).unsqueeze(dim=1) # without unsqueeze errors will pop up\n",
    "\n",
    "y = weight * X + bias\n",
    "\n",
    "X[:5], y[:5]"
   ]
  },
  {
   "cell_type": "code",
   "execution_count": null,
   "metadata": {
    "colab": {
     "base_uri": "https://localhost:8080/"
    },
    "executionInfo": {
     "elapsed": 5,
     "status": "ok",
     "timestamp": 1707375467541,
     "user": {
      "displayName": "Swapnil Nandanwar",
      "userId": "10260422342272113088"
     },
     "user_tz": 360
    },
    "id": "fssRkS8xdxoL",
    "outputId": "9fa0a86b-2b51-4eb1-b360-7f46853eb86e"
   },
   "outputs": [
    {
     "data": {
      "text/plain": [
       "(40, 40, 10, 10)"
      ]
     },
     "execution_count": 15,
     "metadata": {},
     "output_type": "execute_result"
    }
   ],
   "source": [
    "# Splitting the data\n",
    "\n",
    "split_margin = int(0.8 * len(X))\n",
    "\n",
    "X_train, y_train = X[:split_margin], y[:split_margin]\n",
    "X_test, y_test = X[split_margin:], y[split_margin:]\n",
    "\n",
    "len(X_train), len(y_train), len(X_test), len(y_test)"
   ]
  },
  {
   "cell_type": "code",
   "execution_count": null,
   "metadata": {
    "id": "28fUOKGCe2O7"
   },
   "outputs": [],
   "source": [
    "# Plotting the Data\n",
    "\n",
    "def plot_predictions(train_data=X_train,\n",
    "                     train_labels=y_train,\n",
    "                     test_data=X_test,\n",
    "                     test_labels=y_test,\n",
    "                     predictions=None):\n",
    "  \"\"\"\n",
    "  Plots training data, test data and compares predictions.\n",
    "  \"\"\"\n",
    "  plt.figure(figsize=(10, 7))\n",
    "\n",
    "  # Plot training data in blue\n",
    "  plt.scatter(train_data, train_labels, c=\"b\", s=4, label=\"Training data\")\n",
    "\n",
    "  # Plot test data in green\n",
    "  plt.scatter(test_data, test_labels, c=\"r\", s=4, label=\"Testing data\")\n",
    "\n",
    "  if predictions is not None:\n",
    "    # Plot the predictions in red (predictions were made on the test data)\n",
    "    plt.scatter(test_data, predictions, c=\"g\", s=4, label=\"Predictions\")\n",
    "\n",
    "  # Show the legend\n",
    "  plt.legend(prop={\"size\": 14});"
   ]
  },
  {
   "cell_type": "code",
   "execution_count": null,
   "metadata": {
    "colab": {
     "base_uri": "https://localhost:8080/",
     "height": 599
    },
    "executionInfo": {
     "elapsed": 470,
     "status": "ok",
     "timestamp": 1707375468008,
     "user": {
      "displayName": "Swapnil Nandanwar",
      "userId": "10260422342272113088"
     },
     "user_tz": 360
    },
    "id": "h953hkdkfQjB",
    "outputId": "ea0866ce-e7ec-4bf0-f705-5fb691450770"
   },
   "outputs": [
    {
     "data": {
      "image/png": "[encoded data removed]",
      "text/plain": [
       "<Figure size 1000x700 with 1 Axes>"
      ]
     },
     "metadata": {},
     "output_type": "display_data"
    }
   ],
   "source": [
    "plot_predictions(X_train, y_train, X_test, y_test)"
   ]
  },
  {
   "cell_type": "code",
   "execution_count": null,
   "metadata": {
    "id": "SFdBPWhIfkCd"
   },
   "outputs": [],
   "source": [
    "\n"
   ]
  },
  {
   "cell_type": "markdown",
   "metadata": {
    "id": "6NtB_C_cgrCx"
   },
   "source": [
    "**Earlier We build a model which was defining the parameters ourself that is weigts and biases under the class LinearRegressionModel . But we do not need to do that. Practically we don't do that. Pytorch has the library nn.Linear to do all this work for us**\n",
    "\n"
   ]
  },
  {
   "cell_type": "code",
   "execution_count": null,
   "metadata": {
    "id": "MQJTCk8Xhpka"
   },
   "outputs": [],
   "source": []
  },
  {
   "cell_type": "markdown",
   "metadata": {
    "id": "yB4ZiImmhq3o"
   },
   "source": [
    "### Creating Pytorch Linear Model through nn.Linear"
   ]
  },
  {
   "cell_type": "code",
   "execution_count": null,
   "metadata": {
    "colab": {
     "base_uri": "https://localhost:8080/"
    },
    "executionInfo": {
     "elapsed": 17,
     "status": "ok",
     "timestamp": 1707375468009,
     "user": {
      "displayName": "Swapnil Nandanwar",
      "userId": "10260422342272113088"
     },
     "user_tz": 360
    },
    "id": "AekFhykchya2",
    "outputId": "18c61606-dbfd-4156-8759-b96268d1c7bd"
   },
   "outputs": [
    {
     "data": {
      "text/plain": [
       "(LinearRegressionModel(\n",
       "   (linear_layer): Linear(in_features=1, out_features=1, bias=True)\n",
       " ),\n",
       " OrderedDict([('linear_layer.weight', tensor([[0.7645]])),\n",
       "              ('linear_layer.bias', tensor([0.8300]))]))"
      ]
     },
     "execution_count": 18,
     "metadata": {},
     "output_type": "execute_result"
    }
   ],
   "source": [
    "class LinearRegressionModel(nn.Module):\n",
    "  def __init__(self):\n",
    "    super().__init__()\n",
    "    # Here we will use the nn.Linear to create model Parameters / also called as Linear Layer/fully connected layer/ linear transform/dense layer\n",
    "    self.linear_layer = nn.Linear(in_features=1,\n",
    "                                  out_features=1) # Since in our case we have only one independent feature and 1 dependent feature.\n",
    "\n",
    "  def forward(self, x : torch.Tensor) -> torch.Tensor:\n",
    "    return self.linear_layer(x)\n",
    "\n",
    "# Manual Seed\n",
    "torch.manual_seed(42)\n",
    "model_1 = LinearRegressionModel()\n",
    "\n",
    "model_1, model_1.state_dict()\n",
    "\n"
   ]
  },
  {
   "cell_type": "code",
   "execution_count": null,
   "metadata": {
    "colab": {
     "base_uri": "https://localhost:8080/"
    },
    "executionInfo": {
     "elapsed": 15,
     "status": "ok",
     "timestamp": 1707375468010,
     "user": {
      "displayName": "Swapnil Nandanwar",
      "userId": "10260422342272113088"
     },
     "user_tz": 360
    },
    "id": "fjb6mGsulxPp",
    "outputId": "d509fe73-8d23-40ee-aac5-29f0376882f1"
   },
   "outputs": [
    {
     "data": {
      "text/plain": [
       "(tensor([[0.0000],\n",
       "         [0.0200],\n",
       "         [0.0400],\n",
       "         [0.0600],\n",
       "         [0.0800]]),\n",
       " tensor([[0.3000],\n",
       "         [0.3140],\n",
       "         [0.3280],\n",
       "         [0.3420],\n",
       "         [0.3560]]))"
      ]
     },
     "execution_count": 19,
     "metadata": {},
     "output_type": "execute_result"
    }
   ],
   "source": [
    "X_train[:5] , y_train[:5]"
   ]
  },
  {
   "cell_type": "code",
   "execution_count": null,
   "metadata": {
    "colab": {
     "base_uri": "https://localhost:8080/"
    },
    "executionInfo": {
     "elapsed": 12,
     "status": "ok",
     "timestamp": 1707375468010,
     "user": {
      "displayName": "Swapnil Nandanwar",
      "userId": "10260422342272113088"
     },
     "user_tz": 360
    },
    "id": "-_qJqEAI2-b6",
    "outputId": "8fcb3618-71d6-464a-b01f-64dbb402561b"
   },
   "outputs": [
    {
     "data": {
      "text/plain": [
       "<generator object Module.parameters at 0x7b95e08291c0>"
      ]
     },
     "execution_count": 20,
     "metadata": {},
     "output_type": "execute_result"
    }
   ],
   "source": [
    "model_1.parameters()"
   ]
  },
  {
   "cell_type": "code",
   "execution_count": null,
   "metadata": {
    "id": "YVwoMMq607UH"
   },
   "outputs": [],
   "source": [
    "# Now lets write the training loop\n",
    "\n",
    "# Define loss function and optimizer\n",
    "\n",
    "loss_fn = nn.L1Loss() # this is MAE\n",
    "\n",
    "optimizer = torch.optim.SGD(params= model_1.parameters(),lr = 0.01)\n"
   ]
  },
  {
   "cell_type": "code",
   "execution_count": null,
   "metadata": {
    "colab": {
     "base_uri": "https://localhost:8080/"
    },
    "executionInfo": {
     "elapsed": 143,
     "status": "ok",
     "timestamp": 1707375468145,
     "user": {
      "displayName": "Swapnil Nandanwar",
      "userId": "10260422342272113088"
     },
     "user_tz": 360
    },
    "id": "p8eNM5EU3DEp",
    "outputId": "03fcf0fb-07ba-4197-901e-df0b1c4357eb"
   },
   "outputs": [
    {
     "name": "stdout",
     "output_type": "stream",
     "text": [
      "Epoch : 0, Training Loss : 0.5551779866218567,   Test Loss : 0.5739762187004089\n",
      "Epoch : 10, Training Loss : 0.4399680495262146,   Test Loss : 0.4392663538455963\n",
      "Epoch : 20, Training Loss : 0.3247582018375397,   Test Loss : 0.30455657839775085\n",
      "Epoch : 30, Training Loss : 0.20954827964305878,   Test Loss : 0.16984674334526062\n",
      "Epoch : 40, Training Loss : 0.09433844685554504,   Test Loss : 0.03513689711689949\n",
      "Epoch : 50, Training Loss : 0.023886386305093765,   Test Loss : 0.04784906655550003\n",
      "Epoch : 60, Training Loss : 0.0199567973613739,   Test Loss : 0.04580312222242355\n",
      "Epoch : 70, Training Loss : 0.016517987474799156,   Test Loss : 0.0375305712223053\n",
      "Epoch : 80, Training Loss : 0.013089170679450035,   Test Loss : 0.029944902285933495\n",
      "Epoch : 90, Training Loss : 0.009653178043663502,   Test Loss : 0.02167237363755703\n",
      "Epoch : 100, Training Loss : 0.006215679459273815,   Test Loss : 0.014086711220443249\n",
      "Epoch : 110, Training Loss : 0.002787243574857712,   Test Loss : 0.005814164876937866\n",
      "Epoch : 120, Training Loss : 0.0012645035749301314,   Test Loss : 0.013801807537674904\n",
      "Epoch : 130, Training Loss : 0.0012645035749301314,   Test Loss : 0.013801807537674904\n",
      "Epoch : 140, Training Loss : 0.0012645035749301314,   Test Loss : 0.013801807537674904\n",
      "Epoch : 150, Training Loss : 0.0012645035749301314,   Test Loss : 0.013801807537674904\n",
      "Epoch : 160, Training Loss : 0.0012645035749301314,   Test Loss : 0.013801807537674904\n",
      "Epoch : 170, Training Loss : 0.0012645035749301314,   Test Loss : 0.013801807537674904\n",
      "Epoch : 180, Training Loss : 0.0012645035749301314,   Test Loss : 0.013801807537674904\n",
      "Epoch : 190, Training Loss : 0.0012645035749301314,   Test Loss : 0.013801807537674904\n"
     ]
    }
   ],
   "source": [
    "torch.manual_seed(42)\n",
    "\n",
    "epochs = 200\n",
    "\n",
    "for epoch in range(epochs):\n",
    "  model_1.train()\n",
    "\n",
    "  y_pred = model_1(X_train)\n",
    "\n",
    "  loss = loss_fn(y_pred, y_train)\n",
    "\n",
    "  optimizer.zero_grad()\n",
    "\n",
    "  loss.backward()\n",
    "\n",
    "  optimizer.step()\n",
    "\n",
    "  # Testing\n",
    "\n",
    "  model_1.eval()\n",
    "  with torch.inference_mode():\n",
    "    test_pred = model_1(X_test)\n",
    "    test_loss = loss_fn(test_pred, y_test)\n",
    "\n",
    "  if epoch % 10 == 0:\n",
    "    print(f\"Epoch : {epoch}, Training Loss : {loss},   Test Loss : {test_loss}\")"
   ]
  },
  {
   "cell_type": "code",
   "execution_count": null,
   "metadata": {
    "colab": {
     "base_uri": "https://localhost:8080/"
    },
    "executionInfo": {
     "elapsed": 176,
     "status": "ok",
     "timestamp": 1707375500656,
     "user": {
      "displayName": "Swapnil Nandanwar",
      "userId": "10260422342272113088"
     },
     "user_tz": 360
    },
    "id": "bmLnCCk4gO6B",
    "outputId": "20202ce0-e733-4102-ffda-75ddd3b3ad2c"
   },
   "outputs": [
    {
     "data": {
      "text/plain": [
       "OrderedDict([('linear_layer.weight', tensor([[0.6968]])),\n",
       "             ('linear_layer.bias', tensor([0.3025]))])"
      ]
     },
     "execution_count": 23,
     "metadata": {},
     "output_type": "execute_result"
    }
   ],
   "source": [
    "model_1.state_dict()"
   ]
  },
  {
   "cell_type": "code",
   "execution_count": null,
   "metadata": {
    "colab": {
     "base_uri": "https://localhost:8080/"
    },
    "executionInfo": {
     "elapsed": 149,
     "status": "ok",
     "timestamp": 1707376631835,
     "user": {
      "displayName": "Swapnil Nandanwar",
      "userId": "10260422342272113088"
     },
     "user_tz": 360
    },
    "id": "K0f6QvJtgpsM",
    "outputId": "b9f28282-3d11-4e37-c4ac-df05e669f22e"
   },
   "outputs": [
    {
     "data": {
      "text/plain": [
       "tensor([[0.8600],\n",
       "        [0.8739],\n",
       "        [0.8878],\n",
       "        [0.9018],\n",
       "        [0.9157],\n",
       "        [0.9296],\n",
       "        [0.9436],\n",
       "        [0.9575],\n",
       "        [0.9714],\n",
       "        [0.9854]])"
      ]
     },
     "execution_count": 24,
     "metadata": {},
     "output_type": "execute_result"
    }
   ],
   "source": [
    "# Making the predictions on X_test through our final trained model\n",
    "model_1.eval()\n",
    "with torch.inference_mode():\n",
    "  y_pred = model_1(X_test)\n",
    "\n",
    "y_pred"
   ]
  },
  {
   "cell_type": "code",
   "execution_count": null,
   "metadata": {
    "colab": {
     "base_uri": "https://localhost:8080/",
     "height": 599
    },
    "executionInfo": {
     "elapsed": 787,
     "status": "ok",
     "timestamp": 1707376696875,
     "user": {
      "displayName": "Swapnil Nandanwar",
      "userId": "10260422342272113088"
     },
     "user_tz": 360
    },
    "id": "s0B4WZTFk92u",
    "outputId": "5091cc23-3ad4-40e1-d76c-86c3a72afd62"
   },
   "outputs": [
    {
     "data": {
      "image/png": "[encoded data removed]",
      "text/plain": [
       "<Figure size 1000x700 with 1 Axes>"
      ]
     },
     "metadata": {},
     "output_type": "display_data"
    }
   ],
   "source": [
    "plot_predictions(predictions=y_pred)"
   ]
  },
  {
   "cell_type": "code",
   "execution_count": 2,
   "metadata": {
    "colab": {
     "base_uri": "https://localhost:8080/"
    },
    "executionInfo": {
     "elapsed": 196,
     "status": "ok",
     "timestamp": 1708027441482,
     "user": {
      "displayName": "Swapnil Nandanwar",
      "userId": "10260422342272113088"
     },
     "user_tz": 360
    },
    "id": "obGxlLTnlNoP",
    "outputId": "3daa6bb8-fac6-4799-9931-943566e403ef"
   },
   "outputs": [
    {
     "name": "stdout",
     "output_type": "stream",
     "text": [
      "4\n"
     ]
    }
   ],
   "source": [
    "import sympy\n",
    "x = sympy.symbols(\"first\", real = True)\n",
    "y = sympy.sin(x) * sympy.cos(x)\n",
    "\n",
    "z = sympy.pi\n",
    "\n",
    "print(8 *(sympy.integrate(y, (x, 0, z/2))))"
   ]
  },
  {
   "cell_type": "code",
   "execution_count": null,
   "metadata": {
    "id": "JhCnHZmKXKth"
   },
   "outputs": [],
   "source": []
  }
 ],
 "metadata": {
  "colab": {
   "authorship_tag": "ABX9TyOiphV90RvZjJG6WRJMjmz9",
   "provenance": []
  },
  "kernelspec": {
   "display_name": "Python 3 (ipykernel)",
   "language": "python",
   "name": "python3"
  },
  "language_info": {
   "codemirror_mode": {
    "name": "ipython",
    "version": 3
   },
   "file_extension": ".py",
   "mimetype": "text/x-python",
   "name": "python",
   "nbconvert_exporter": "python",
   "pygments_lexer": "ipython3",
   "version": "3.9.13"
  }
 },
 "nbformat": 4,
 "nbformat_minor": 1
}
